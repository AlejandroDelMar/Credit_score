{
 "cells": [
  {
   "cell_type": "markdown",
   "id": "3abc06f1",
   "metadata": {},
   "source": [
    "### Кредитный скоринг"
   ]
  },
  {
   "cell_type": "markdown",
   "id": "650800be",
   "metadata": {},
   "source": [
    "**Описание признаков:**\n",
    "\n",
    "• age – Возраст заёмщика кредитных средств; тип - integer  \n",
    "• NumberOfTime30 - 59DaysPastDueNotWorse – количество раз, когда человек имел просрочку выплаты других кредитов более 30-59 дней, но не больше в течение последних двух лет; тип - integer  \n",
    "• DebtRatio – Ежемесячные отчисления на задолжености (кредиты,алименты и т.д.) / совокупный месячный доход percentage; тип - real  \n",
    "• MonthlyIncome – Месячный доход в долларах; тип - real  \n",
    "• NumberOfTimes90DaysLate – Количество раз, когда человек имел просрочку выплаты других кредитов более 90 дней; тип - integer  \n",
    "• NumberOfTime60-89DaysPastDueNotWorse – Количество раз, когда человек имел просрочку выплаты других кредитов более 60-89 дней, но не больше в течение последних двух лет; тип - integer  \n",
    "• NumberOfDependents – Число человек в семье кредитозаёмщика; тип - integer  \n"
   ]
  },
  {
   "cell_type": "code",
   "execution_count": 1,
   "id": "0be71197",
   "metadata": {},
   "outputs": [],
   "source": [
    "import numpy as np\n",
    "import pandas as pd\n",
    "import matplotlib.pyplot as plt"
   ]
  },
  {
   "cell_type": "code",
   "execution_count": 2,
   "id": "b6586315",
   "metadata": {},
   "outputs": [
    {
     "data": {
      "text/html": [
       "<div>\n",
       "<style scoped>\n",
       "    .dataframe tbody tr th:only-of-type {\n",
       "        vertical-align: middle;\n",
       "    }\n",
       "\n",
       "    .dataframe tbody tr th {\n",
       "        vertical-align: top;\n",
       "    }\n",
       "\n",
       "    .dataframe thead th {\n",
       "        text-align: right;\n",
       "    }\n",
       "</style>\n",
       "<table border=\"1\" class=\"dataframe\">\n",
       "  <thead>\n",
       "    <tr style=\"text-align: right;\">\n",
       "      <th></th>\n",
       "      <th>SeriousDlqin2yrs</th>\n",
       "      <th>age</th>\n",
       "      <th>NumberOfTime30-59DaysPastDueNotWorse</th>\n",
       "      <th>DebtRatio</th>\n",
       "      <th>NumberOfTimes90DaysLate</th>\n",
       "      <th>NumberOfTime60-89DaysPastDueNotWorse</th>\n",
       "      <th>MonthlyIncome</th>\n",
       "      <th>NumberOfDependents</th>\n",
       "    </tr>\n",
       "  </thead>\n",
       "  <tbody>\n",
       "    <tr>\n",
       "      <th>0</th>\n",
       "      <td>0</td>\n",
       "      <td>64</td>\n",
       "      <td>0</td>\n",
       "      <td>0.249908</td>\n",
       "      <td>0</td>\n",
       "      <td>0</td>\n",
       "      <td>8158.0</td>\n",
       "      <td>0.0</td>\n",
       "    </tr>\n",
       "    <tr>\n",
       "      <th>1</th>\n",
       "      <td>0</td>\n",
       "      <td>58</td>\n",
       "      <td>0</td>\n",
       "      <td>3870.000000</td>\n",
       "      <td>0</td>\n",
       "      <td>0</td>\n",
       "      <td>NaN</td>\n",
       "      <td>0.0</td>\n",
       "    </tr>\n",
       "    <tr>\n",
       "      <th>2</th>\n",
       "      <td>0</td>\n",
       "      <td>41</td>\n",
       "      <td>0</td>\n",
       "      <td>0.456127</td>\n",
       "      <td>0</td>\n",
       "      <td>0</td>\n",
       "      <td>6666.0</td>\n",
       "      <td>0.0</td>\n",
       "    </tr>\n",
       "    <tr>\n",
       "      <th>3</th>\n",
       "      <td>0</td>\n",
       "      <td>43</td>\n",
       "      <td>0</td>\n",
       "      <td>0.000190</td>\n",
       "      <td>0</td>\n",
       "      <td>0</td>\n",
       "      <td>10500.0</td>\n",
       "      <td>2.0</td>\n",
       "    </tr>\n",
       "    <tr>\n",
       "      <th>4</th>\n",
       "      <td>1</td>\n",
       "      <td>49</td>\n",
       "      <td>0</td>\n",
       "      <td>0.271820</td>\n",
       "      <td>0</td>\n",
       "      <td>0</td>\n",
       "      <td>400.0</td>\n",
       "      <td>0.0</td>\n",
       "    </tr>\n",
       "  </tbody>\n",
       "</table>\n",
       "</div>"
      ],
      "text/plain": [
       "   SeriousDlqin2yrs  age  NumberOfTime30-59DaysPastDueNotWorse    DebtRatio  \\\n",
       "0                 0   64                                     0     0.249908   \n",
       "1                 0   58                                     0  3870.000000   \n",
       "2                 0   41                                     0     0.456127   \n",
       "3                 0   43                                     0     0.000190   \n",
       "4                 1   49                                     0     0.271820   \n",
       "\n",
       "   NumberOfTimes90DaysLate  NumberOfTime60-89DaysPastDueNotWorse  \\\n",
       "0                        0                                     0   \n",
       "1                        0                                     0   \n",
       "2                        0                                     0   \n",
       "3                        0                                     0   \n",
       "4                        0                                     0   \n",
       "\n",
       "   MonthlyIncome  NumberOfDependents  \n",
       "0         8158.0                 0.0  \n",
       "1            NaN                 0.0  \n",
       "2         6666.0                 0.0  \n",
       "3        10500.0                 2.0  \n",
       "4          400.0                 0.0  "
      ]
     },
     "execution_count": 2,
     "metadata": {},
     "output_type": "execute_result"
    }
   ],
   "source": [
    "data_scoring = pd.read_csv('./cs_sample.csv', sep=\";\")\n",
    "data_scoring.head()"
   ]
  },
  {
   "cell_type": "code",
   "execution_count": 3,
   "id": "d1e13c37",
   "metadata": {},
   "outputs": [
    {
     "data": {
      "text/plain": [
       "(45063, 8)"
      ]
     },
     "execution_count": 3,
     "metadata": {},
     "output_type": "execute_result"
    }
   ],
   "source": [
    "data_scoring.shape"
   ]
  },
  {
   "cell_type": "code",
   "execution_count": 5,
   "id": "55968880",
   "metadata": {},
   "outputs": [
    {
     "name": "stdout",
     "output_type": "stream",
     "text": [
      "<class 'pandas.core.frame.DataFrame'>\n",
      "RangeIndex: 45063 entries, 0 to 45062\n",
      "Data columns (total 8 columns):\n",
      " #   Column                                Non-Null Count  Dtype  \n",
      "---  ------                                --------------  -----  \n",
      " 0   SeriousDlqin2yrs                      45063 non-null  int64  \n",
      " 1   age                                   45063 non-null  int64  \n",
      " 2   NumberOfTime30-59DaysPastDueNotWorse  45063 non-null  int64  \n",
      " 3   DebtRatio                             45063 non-null  float64\n",
      " 4   NumberOfTimes90DaysLate               45063 non-null  int64  \n",
      " 5   NumberOfTime60-89DaysPastDueNotWorse  45063 non-null  int64  \n",
      " 6   MonthlyIncome                         36420 non-null  float64\n",
      " 7   NumberOfDependents                    43946 non-null  float64\n",
      "dtypes: float64(3), int64(5)\n",
      "memory usage: 2.8 MB\n"
     ]
    }
   ],
   "source": [
    "data_scoring.info()"
   ]
  },
  {
   "cell_type": "code",
   "execution_count": 6,
   "id": "4b395246",
   "metadata": {},
   "outputs": [
    {
     "data": {
      "text/html": [
       "<div>\n",
       "<style scoped>\n",
       "    .dataframe tbody tr th:only-of-type {\n",
       "        vertical-align: middle;\n",
       "    }\n",
       "\n",
       "    .dataframe tbody tr th {\n",
       "        vertical-align: top;\n",
       "    }\n",
       "\n",
       "    .dataframe thead th {\n",
       "        text-align: right;\n",
       "    }\n",
       "</style>\n",
       "<table border=\"1\" class=\"dataframe\">\n",
       "  <thead>\n",
       "    <tr style=\"text-align: right;\">\n",
       "      <th></th>\n",
       "      <th>SeriousDlqin2yrs</th>\n",
       "      <th>age</th>\n",
       "      <th>NumberOfTime30-59DaysPastDueNotWorse</th>\n",
       "      <th>DebtRatio</th>\n",
       "      <th>NumberOfTimes90DaysLate</th>\n",
       "      <th>NumberOfTime60-89DaysPastDueNotWorse</th>\n",
       "      <th>MonthlyIncome</th>\n",
       "      <th>NumberOfDependents</th>\n",
       "    </tr>\n",
       "  </thead>\n",
       "  <tbody>\n",
       "    <tr>\n",
       "      <th>count</th>\n",
       "      <td>45063.000000</td>\n",
       "      <td>45063.000000</td>\n",
       "      <td>45063.000000</td>\n",
       "      <td>45063.000000</td>\n",
       "      <td>45063.000000</td>\n",
       "      <td>45063.000000</td>\n",
       "      <td>3.642000e+04</td>\n",
       "      <td>43946.000000</td>\n",
       "    </tr>\n",
       "    <tr>\n",
       "      <th>mean</th>\n",
       "      <td>0.222489</td>\n",
       "      <td>51.210949</td>\n",
       "      <td>0.750993</td>\n",
       "      <td>352.062688</td>\n",
       "      <td>0.570712</td>\n",
       "      <td>0.505870</td>\n",
       "      <td>6.452263e+03</td>\n",
       "      <td>0.789628</td>\n",
       "    </tr>\n",
       "    <tr>\n",
       "      <th>std</th>\n",
       "      <td>0.415922</td>\n",
       "      <td>14.651533</td>\n",
       "      <td>6.184521</td>\n",
       "      <td>2467.556358</td>\n",
       "      <td>6.173106</td>\n",
       "      <td>6.153609</td>\n",
       "      <td>1.263817e+04</td>\n",
       "      <td>1.130813</td>\n",
       "    </tr>\n",
       "    <tr>\n",
       "      <th>min</th>\n",
       "      <td>0.000000</td>\n",
       "      <td>21.000000</td>\n",
       "      <td>0.000000</td>\n",
       "      <td>0.000000</td>\n",
       "      <td>0.000000</td>\n",
       "      <td>0.000000</td>\n",
       "      <td>0.000000e+00</td>\n",
       "      <td>0.000000</td>\n",
       "    </tr>\n",
       "    <tr>\n",
       "      <th>25%</th>\n",
       "      <td>0.000000</td>\n",
       "      <td>40.000000</td>\n",
       "      <td>0.000000</td>\n",
       "      <td>0.176373</td>\n",
       "      <td>0.000000</td>\n",
       "      <td>0.000000</td>\n",
       "      <td>3.286000e+03</td>\n",
       "      <td>0.000000</td>\n",
       "    </tr>\n",
       "    <tr>\n",
       "      <th>50%</th>\n",
       "      <td>0.000000</td>\n",
       "      <td>51.000000</td>\n",
       "      <td>0.000000</td>\n",
       "      <td>0.373949</td>\n",
       "      <td>0.000000</td>\n",
       "      <td>0.000000</td>\n",
       "      <td>5.166000e+03</td>\n",
       "      <td>0.000000</td>\n",
       "    </tr>\n",
       "    <tr>\n",
       "      <th>75%</th>\n",
       "      <td>0.000000</td>\n",
       "      <td>62.000000</td>\n",
       "      <td>0.000000</td>\n",
       "      <td>0.857027</td>\n",
       "      <td>0.000000</td>\n",
       "      <td>0.000000</td>\n",
       "      <td>8.000000e+03</td>\n",
       "      <td>1.000000</td>\n",
       "    </tr>\n",
       "    <tr>\n",
       "      <th>max</th>\n",
       "      <td>1.000000</td>\n",
       "      <td>107.000000</td>\n",
       "      <td>98.000000</td>\n",
       "      <td>326442.000000</td>\n",
       "      <td>98.000000</td>\n",
       "      <td>98.000000</td>\n",
       "      <td>1.794060e+06</td>\n",
       "      <td>10.000000</td>\n",
       "    </tr>\n",
       "  </tbody>\n",
       "</table>\n",
       "</div>"
      ],
      "text/plain": [
       "       SeriousDlqin2yrs           age  NumberOfTime30-59DaysPastDueNotWorse  \\\n",
       "count      45063.000000  45063.000000                          45063.000000   \n",
       "mean           0.222489     51.210949                              0.750993   \n",
       "std            0.415922     14.651533                              6.184521   \n",
       "min            0.000000     21.000000                              0.000000   \n",
       "25%            0.000000     40.000000                              0.000000   \n",
       "50%            0.000000     51.000000                              0.000000   \n",
       "75%            0.000000     62.000000                              0.000000   \n",
       "max            1.000000    107.000000                             98.000000   \n",
       "\n",
       "           DebtRatio  NumberOfTimes90DaysLate  \\\n",
       "count   45063.000000             45063.000000   \n",
       "mean      352.062688                 0.570712   \n",
       "std      2467.556358                 6.173106   \n",
       "min         0.000000                 0.000000   \n",
       "25%         0.176373                 0.000000   \n",
       "50%         0.373949                 0.000000   \n",
       "75%         0.857027                 0.000000   \n",
       "max    326442.000000                98.000000   \n",
       "\n",
       "       NumberOfTime60-89DaysPastDueNotWorse  MonthlyIncome  NumberOfDependents  \n",
       "count                          45063.000000   3.642000e+04        43946.000000  \n",
       "mean                               0.505870   6.452263e+03            0.789628  \n",
       "std                                6.153609   1.263817e+04            1.130813  \n",
       "min                                0.000000   0.000000e+00            0.000000  \n",
       "25%                                0.000000   3.286000e+03            0.000000  \n",
       "50%                                0.000000   5.166000e+03            0.000000  \n",
       "75%                                0.000000   8.000000e+03            1.000000  \n",
       "max                               98.000000   1.794060e+06           10.000000  "
      ]
     },
     "execution_count": 6,
     "metadata": {},
     "output_type": "execute_result"
    }
   ],
   "source": [
    "data_scoring.describe()"
   ]
  },
  {
   "cell_type": "markdown",
   "id": "738bfbb5",
   "metadata": {},
   "source": [
    "Пропуски данных имеются в двух столбцах: месячном доходе и числе человек в семье. Можно бы было заменить пропуски на среднее или медианное значение по этому признаку, но, мне кажется, для данной задачи это не будет иметь смысла."
   ]
  },
  {
   "cell_type": "code",
   "execution_count": 4,
   "id": "0dcb6de9",
   "metadata": {},
   "outputs": [
    {
     "data": {
      "text/plain": [
       "(36420, 8)"
      ]
     },
     "execution_count": 4,
     "metadata": {},
     "output_type": "execute_result"
    }
   ],
   "source": [
    "data_scoring_dropna = data_scoring.dropna()\n",
    "data_scoring_dropna.shape"
   ]
  },
  {
   "cell_type": "markdown",
   "id": "b550bdff",
   "metadata": {},
   "source": [
    "После удаления объектов с пропусками осталось около 80% от первоначальных данных"
   ]
  },
  {
   "cell_type": "code",
   "execution_count": 5,
   "id": "66c6b5f7",
   "metadata": {},
   "outputs": [
    {
     "data": {
      "text/plain": [
       "((36420,), (36420, 7))"
      ]
     },
     "execution_count": 5,
     "metadata": {},
     "output_type": "execute_result"
    }
   ],
   "source": [
    "y = data_scoring_dropna['SeriousDlqin2yrs']\n",
    "X = data_scoring_dropna.drop(columns = ['SeriousDlqin2yrs'])\n",
    "y.shape, X.shape"
   ]
  },
  {
   "cell_type": "code",
   "execution_count": 6,
   "id": "753785af",
   "metadata": {},
   "outputs": [],
   "source": [
    "from sklearn.model_selection import train_test_split\n",
    "X_train, X_test, y_train, y_test = train_test_split(X, y, test_size=0.25, random_state=13, \n",
    "                                                    shuffle = True, stratify = y)"
   ]
  },
  {
   "cell_type": "code",
   "execution_count": 7,
   "id": "a3361863",
   "metadata": {},
   "outputs": [
    {
     "data": {
      "text/plain": [
       "0    28063\n",
       "1     8357\n",
       "Name: SeriousDlqin2yrs, dtype: int64"
      ]
     },
     "execution_count": 7,
     "metadata": {},
     "output_type": "execute_result"
    }
   ],
   "source": [
    "y.value_counts()"
   ]
  },
  {
   "cell_type": "markdown",
   "id": "61ed9ac9",
   "metadata": {},
   "source": [
    "Соотношение классов в таргете не сбалансировано (тех, кто выплатил кредит в 3,5 раза больше, чем неплательщиков). Метрику будем использовать Precision + Recall, причем в кредитном скоринге presicion будет иметь более важное значение (в задаче важно не столько обнаружение объектов одного класса, а скорее, точность определения класса)"
   ]
  },
  {
   "cell_type": "code",
   "execution_count": 30,
   "id": "be1f91b9",
   "metadata": {},
   "outputs": [
    {
     "data": {
      "text/plain": [
       "0    21047\n",
       "1     6268\n",
       "Name: SeriousDlqin2yrs, dtype: int64"
      ]
     },
     "execution_count": 30,
     "metadata": {},
     "output_type": "execute_result"
    }
   ],
   "source": [
    "y_train.value_counts()"
   ]
  },
  {
   "cell_type": "code",
   "execution_count": 6,
   "id": "c350e56f",
   "metadata": {},
   "outputs": [
    {
     "data": {
      "text/plain": [
       "0    7016\n",
       "1    2089\n",
       "Name: SeriousDlqin2yrs, dtype: int64"
      ]
     },
     "execution_count": 6,
     "metadata": {},
     "output_type": "execute_result"
    }
   ],
   "source": [
    "y_test.value_counts()"
   ]
  },
  {
   "cell_type": "markdown",
   "id": "c2bb8ef8",
   "metadata": {},
   "source": [
    "При разбиении классы распределились одинаково для трейн и тест датасетов. Однако же, соотношение меток классов не сбалансировано. Решать проблему можно, например, добавив копии объектов недостающего класса или использованием наиболее подходящих метрик."
   ]
  },
  {
   "cell_type": "code",
   "execution_count": 8,
   "id": "e1582ddf",
   "metadata": {},
   "outputs": [],
   "source": [
    "from sklearn.neighbors import KNeighborsClassifier\n",
    "from sklearn.model_selection import cross_val_score\n",
    "from sklearn.preprocessing import MinMaxScaler\n",
    "from sklearn.model_selection import cross_validate\n",
    "from sklearn.model_selection import GridSearchCV"
   ]
  },
  {
   "cell_type": "code",
   "execution_count": 9,
   "id": "f0d4ba3a",
   "metadata": {},
   "outputs": [],
   "source": [
    "scaler = MinMaxScaler()\n",
    "\n",
    "X_train_sc = scaler.fit_transform(X_train)\n",
    "X_test_sc = scaler.transform(X_test)"
   ]
  },
  {
   "cell_type": "code",
   "execution_count": 10,
   "id": "ef917e88",
   "metadata": {},
   "outputs": [],
   "source": [
    "knn = KNeighborsClassifier(n_neighbors = 10)\n",
    "knn_score = cross_validate(knn, X_train_sc, y_train, return_train_score=True, cv=5, scoring = ('precision', 'recall'))"
   ]
  },
  {
   "cell_type": "code",
   "execution_count": 11,
   "id": "bab9219b",
   "metadata": {},
   "outputs": [
    {
     "name": "stdout",
     "output_type": "stream",
     "text": [
      "Средние метрики на трейне:\n",
      " Precision: 0.8076748194534161 \n",
      " Recall: 0.3437303009201355\n"
     ]
    }
   ],
   "source": [
    "print('Средние метрики на трейне:\\n', 'Precision:', np.mean(knn_score['train_precision']),'\\n', 'Recall:', np.mean(knn_score['train_recall']))"
   ]
  },
  {
   "cell_type": "code",
   "execution_count": 12,
   "id": "5d37e3df",
   "metadata": {},
   "outputs": [
    {
     "name": "stdout",
     "output_type": "stream",
     "text": [
      "Средние метрики на тесте:\n",
      " Precision: 0.7270839159302876 \n",
      " Recall: 0.2940316764486126\n"
     ]
    }
   ],
   "source": [
    "print('Средние метрики на тесте:\\n', 'Precision:', np.mean(knn_score['test_precision']),'\\n', 'Recall:', np.mean(knn_score['test_recall']))"
   ]
  },
  {
   "cell_type": "markdown",
   "id": "a20dbff1",
   "metadata": {},
   "source": [
    "Переобучение имеет место, т.к. метрики на трейне сильно лучше, чем на тесте"
   ]
  },
  {
   "cell_type": "code",
   "execution_count": 28,
   "id": "eb2cdbe0",
   "metadata": {},
   "outputs": [],
   "source": [
    "from sklearn.model_selection import learning_curve\n",
    "\n",
    "lc = learning_curve(knn, X_train_sc, y_train, groups=None,train_sizes=np.linspace(0.1, 1.0, 10), cv=5, scoring = 'precision')"
   ]
  },
  {
   "cell_type": "code",
   "execution_count": 59,
   "id": "5cd46a5b",
   "metadata": {},
   "outputs": [
    {
     "data": {
      "image/png": "[encoded data removed]",
      "text/plain": [
       "<Figure size 720x504 with 1 Axes>"
      ]
     },
     "metadata": {
      "needs_background": "light"
     },
     "output_type": "display_data"
    }
   ],
   "source": [
    "plt.figure(figsize=(10, 7))\n",
    "plt.title(\"Learning Curve KNN method\", fontsize=16)\n",
    "\n",
    "plt.xlabel(\"Training Examples\", fontsize=14)\n",
    "plt.ylabel(\"Score\", fontsize=14)\n",
    "\n",
    "ax = plt.gca()\n",
    "ax.set_xlim(1200, 23000)\n",
    "ax.set_ylim(0.5, 0.85)\n",
    "\n",
    "X_axis = lc[0]\n",
    "\n",
    "train_mean = list()\n",
    "test_mean = list()\n",
    "for i in range(len(lc[1])):\n",
    "    train_mean.append(np.mean(lc[1][i]))    \n",
    "for i in range(len(lc[2])):\n",
    "    test_mean.append(np.mean(lc[2][i]))\n",
    "Y_axis = train_mean\n",
    "Y2_axis = test_mean\n",
    "\n",
    "ax.plot(X_axis, Y_axis,color='deepskyblue', label = 'train_score')\n",
    "\n",
    "ax.plot(X_axis, Y2_axis, color = 'lime', label = 'test_score')\n",
    "ax.grid()\n",
    "plt.legend(loc=\"lower right\")\n",
    "plt.show()"
   ]
  },
  {
   "cell_type": "code",
   "execution_count": 9,
   "id": "66ba88e1",
   "metadata": {},
   "outputs": [
    {
     "data": {
      "text/plain": [
       "GridSearchCV(cv=5, estimator=KNeighborsClassifier(),\n",
       "             param_grid={'n_neighbors': array([ 1,  2,  3,  4,  5,  6,  7,  8,  9, 10, 11, 12, 13, 14, 15, 16, 17,\n",
       "       18, 19, 20, 21, 22, 23, 24, 25, 26, 27, 28, 29, 30]),\n",
       "                         'p': [1, 2]},\n",
       "             return_train_score=True, scoring='precision')"
      ]
     },
     "execution_count": 9,
     "metadata": {},
     "output_type": "execute_result"
    }
   ],
   "source": [
    "knn_hyper = KNeighborsClassifier()\n",
    "gridknn = {'n_neighbors': np.linspace(1,30,30, dtype=int), 'p':[1, 2]}\n",
    "knn_grid = GridSearchCV(knn_hyper, gridknn, scoring=('precision'), cv = 5, return_train_score = True)\n",
    "knn_grid.fit(X_train_sc, y_train)"
   ]
  },
  {
   "cell_type": "code",
   "execution_count": 27,
   "id": "6b7eec61",
   "metadata": {},
   "outputs": [
    {
     "name": "stdout",
     "output_type": "stream",
     "text": [
      "Best parameters {'n_neighbors': 30, 'p': 1}\n",
      "Best test presicion 0.7904920674657757\n",
      "Train presicion with n = 30, p = 1: 0.8268037501254721\n"
     ]
    }
   ],
   "source": [
    "print('Best parameters', knn_grid.best_params_)\n",
    "print('Best test presicion', knn_grid.best_score_)\n",
    "print('Train presicion with n = 30, p = 1:', cv_results_knn.iloc[58]['mean_train_score'])"
   ]
  },
  {
   "cell_type": "code",
   "execution_count": 31,
   "id": "ec1eb948",
   "metadata": {},
   "outputs": [],
   "source": [
    "knn_best = KNeighborsClassifier(n_neighbors = 30, p = 1)\n",
    "knn_score = cross_validate(knn_best, X_train_sc, y_train, return_train_score=True, cv=5, scoring = ('precision', 'recall'))"
   ]
  },
  {
   "cell_type": "code",
   "execution_count": 29,
   "id": "4e43e01d",
   "metadata": {},
   "outputs": [
    {
     "name": "stdout",
     "output_type": "stream",
     "text": [
      "Test recall: 0.19272393782831887\n",
      "Train recall: 0.2118697994568349\n"
     ]
    }
   ],
   "source": [
    "print('Test recall:', np.mean(knn_score['test_recall']))\n",
    "print('Train recall:', np.mean(knn_score['train_recall']))"
   ]
  },
  {
   "cell_type": "markdown",
   "id": "9831e703",
   "metadata": {},
   "source": [
    "Попробуем посмотреть метрику на нашем отложенном тесте"
   ]
  },
  {
   "cell_type": "code",
   "execution_count": 34,
   "id": "9328a7e2",
   "metadata": {},
   "outputs": [],
   "source": [
    "from sklearn import metrics\n",
    "from sklearn.metrics import precision_score\n",
    "from sklearn.metrics import recall_score\n",
    "from sklearn.metrics import accuracy_score"
   ]
  },
  {
   "cell_type": "code",
   "execution_count": null,
   "id": "73f16a8b",
   "metadata": {},
   "outputs": [],
   "source": [
    "knn_best.fit(X_train_sc, y_train)\n",
    "y_pred = knn_best.predict(X_test_sc)"
   ]
  },
  {
   "cell_type": "code",
   "execution_count": 38,
   "id": "22874aff",
   "metadata": {},
   "outputs": [
    {
     "data": {
      "text/plain": [
       "0.7563636363636363"
      ]
     },
     "execution_count": 38,
     "metadata": {},
     "output_type": "execute_result"
    }
   ],
   "source": [
    "precision_score(y_test, y_pred)"
   ]
  },
  {
   "cell_type": "code",
   "execution_count": 40,
   "id": "4e11c524",
   "metadata": {},
   "outputs": [
    {
     "data": {
      "text/plain": [
       "0.19913834370512207"
      ]
     },
     "execution_count": 40,
     "metadata": {},
     "output_type": "execute_result"
    }
   ],
   "source": [
    "recall_score(y_test, y_pred)"
   ]
  },
  {
   "cell_type": "markdown",
   "id": "682a0f6f",
   "metadata": {},
   "source": [
    "После подбора гиперпараметров показатели presicion улучшились, степень переобучения также уменьшилась"
   ]
  },
  {
   "cell_type": "markdown",
   "id": "d4b0210a",
   "metadata": {},
   "source": [
    "Разделим трейн датасет на два класса, а затем сформируем 2 набора трейн датасетов: c Downsampling и Upsampling"
   ]
  },
  {
   "cell_type": "code",
   "execution_count": 264,
   "id": "fac94c94",
   "metadata": {},
   "outputs": [],
   "source": [
    "X_train_scal = pd.DataFrame(X_train_sc, columns=list(X_train.columns.values), index=list(X_train.index))"
   ]
  },
  {
   "cell_type": "code",
   "execution_count": 265,
   "id": "aa1f9437",
   "metadata": {},
   "outputs": [],
   "source": [
    "y_train_ = pd.DataFrame(y_train, index=list(y_train.index))"
   ]
  },
  {
   "cell_type": "code",
   "execution_count": 266,
   "id": "cfd1736c",
   "metadata": {},
   "outputs": [],
   "source": [
    "X_train_scal['target'] = y_train_['SeriousDlqin2yrs']"
   ]
  },
  {
   "cell_type": "code",
   "execution_count": 267,
   "id": "732b0123",
   "metadata": {},
   "outputs": [],
   "source": [
    "data_train_majority = X_train_scal[X_train_scal.iloc[:, 7]==0]"
   ]
  },
  {
   "cell_type": "code",
   "execution_count": 268,
   "id": "549a71c7",
   "metadata": {},
   "outputs": [],
   "source": [
    "data_train_minority = X_train_scal[X_train_scal.iloc[:, 7]==1]"
   ]
  },
  {
   "cell_type": "code",
   "execution_count": 269,
   "id": "728398da",
   "metadata": {},
   "outputs": [],
   "source": [
    "from sklearn.utils import resample\n",
    "\n",
    "data_train_majority_down = resample(data_train_majority, random_state=13, replace=False, n_samples = 6268)"
   ]
  },
  {
   "cell_type": "code",
   "execution_count": 270,
   "id": "2ae329fc",
   "metadata": {},
   "outputs": [],
   "source": [
    "data_train_minority_up = resample(data_train_minority, random_state=13, replace=True, n_samples = 21047)"
   ]
  },
  {
   "cell_type": "code",
   "execution_count": 271,
   "id": "304dc1f2",
   "metadata": {},
   "outputs": [],
   "source": [
    "data_train_down = pd.concat([data_train_majority_down, data_train_minority])\n",
    "data_train_up = pd.concat([data_train_minority_up, data_train_majority])"
   ]
  },
  {
   "cell_type": "code",
   "execution_count": 272,
   "id": "8a26deea",
   "metadata": {},
   "outputs": [],
   "source": [
    "y_train_down = data_train_down['target']\n",
    "X_train_down = data_train_down.drop(columns = ['target'])\n",
    "\n",
    "y_train_up = data_train_up['target']\n",
    "X_train_up = data_train_up.drop(columns = ['target'])"
   ]
  },
  {
   "cell_type": "code",
   "execution_count": 273,
   "id": "e0796877",
   "metadata": {},
   "outputs": [
    {
     "data": {
      "text/plain": [
       "(0    6268\n",
       " 1    6268\n",
       " Name: target, dtype: int64,\n",
       " 1    21047\n",
       " 0    21047\n",
       " Name: target, dtype: int64)"
      ]
     },
     "execution_count": 273,
     "metadata": {},
     "output_type": "execute_result"
    }
   ],
   "source": [
    "y_train_down.value_counts(), y_train_up.value_counts()"
   ]
  },
  {
   "cell_type": "markdown",
   "id": "2007b66b",
   "metadata": {},
   "source": [
    "Теперь в двух тестовых выборках у нас баланс классов, в одной мы убрали объекты преобладающего класса, в другой - увеличили число объектов недостающего класса."
   ]
  },
  {
   "cell_type": "markdown",
   "id": "a24a1f6a",
   "metadata": {},
   "source": [
    "### Downsampling"
   ]
  },
  {
   "cell_type": "code",
   "execution_count": 111,
   "id": "e799ae19",
   "metadata": {},
   "outputs": [],
   "source": [
    "knn_down = KNeighborsClassifier(n_neighbors = 30, p = 1)\n",
    "knn_score_down = cross_validate(knn_down, X_train_down, y_train_down, return_train_score=True, cv=5, scoring = ('precision', 'recall'))"
   ]
  },
  {
   "cell_type": "code",
   "execution_count": 115,
   "id": "70c2de22",
   "metadata": {},
   "outputs": [
    {
     "name": "stdout",
     "output_type": "stream",
     "text": [
      "Test precision: 0.8104888347622763\n",
      "Train precision: 0.8349117220704331\n",
      "Test recall: 0.46394312342562855\n",
      "Train recall: 0.4900686214193478\n"
     ]
    }
   ],
   "source": [
    "print('Test precision:', np.mean(knn_score_down['test_precision']))\n",
    "print('Train precision:', np.mean(knn_score_down['train_precision']))\n",
    "print('Test recall:', np.mean(knn_score_down['test_recall']))\n",
    "print('Train recall:', np.mean(knn_score_down['train_recall']))"
   ]
  },
  {
   "cell_type": "markdown",
   "id": "fe3e5f8f",
   "metadata": {},
   "source": [
    "На отложенном тесте"
   ]
  },
  {
   "cell_type": "code",
   "execution_count": 118,
   "id": "f80ec385",
   "metadata": {},
   "outputs": [
    {
     "data": {
      "text/plain": [
       "(0.5513264129181085, 0.45763523216850166)"
      ]
     },
     "execution_count": 118,
     "metadata": {},
     "output_type": "execute_result"
    }
   ],
   "source": [
    "knn_down.fit(X_train_down, y_train_down)\n",
    "y_pred = knn_down.predict(X_test_sc)\n",
    "precision_score(y_test, y_pred),recall_score(y_test, y_pred)"
   ]
  },
  {
   "cell_type": "markdown",
   "id": "f5d33038",
   "metadata": {},
   "source": [
    "### Upsampling"
   ]
  },
  {
   "cell_type": "code",
   "execution_count": 119,
   "id": "05f6948c",
   "metadata": {},
   "outputs": [],
   "source": [
    "knn_up = KNeighborsClassifier(n_neighbors = 30, p = 1)\n",
    "knn_score_up = cross_validate(knn_up, X_train_up, y_train_up, return_train_score=True, cv=5, scoring = ('precision', 'recall'))"
   ]
  },
  {
   "cell_type": "code",
   "execution_count": 122,
   "id": "d92db9c0",
   "metadata": {},
   "outputs": [
    {
     "name": "stdout",
     "output_type": "stream",
     "text": [
      "Test precision: 0.7913766830252273\n",
      "Train precision: 0.8095350659249465\n",
      "Test recall: 0.6237948429702442\n",
      "Train recall: 0.6447948945974539\n"
     ]
    }
   ],
   "source": [
    "print('Test precision:', np.mean(knn_score_up['test_precision']))\n",
    "print('Train precision:', np.mean(knn_score_up['train_precision']))\n",
    "print('Test recall:', np.mean(knn_score_up['test_recall']))\n",
    "print('Train recall:', np.mean(knn_score_up['train_recall']))"
   ]
  },
  {
   "cell_type": "markdown",
   "id": "a0ac852f",
   "metadata": {},
   "source": [
    "На отложенном тесте"
   ]
  },
  {
   "cell_type": "code",
   "execution_count": 123,
   "id": "a991b249",
   "metadata": {},
   "outputs": [
    {
     "data": {
      "text/plain": [
       "(0.47642679900744417, 0.5514600287218765)"
      ]
     },
     "execution_count": 123,
     "metadata": {},
     "output_type": "execute_result"
    }
   ],
   "source": [
    "knn_up.fit(X_train_up, y_train_up)\n",
    "y_pred = knn_up.predict(X_test_sc)\n",
    "precision_score(y_test, y_pred),recall_score(y_test, y_pred)"
   ]
  },
  {
   "cell_type": "markdown",
   "id": "0c2f7cc7",
   "metadata": {},
   "source": [
    "Если судить по метрикам на кросс-валидации, то результаты улучшились: степень переобучения снизилась, recall значительно повысился.\n",
    "На отложенном же тесте precision заметно снизился при повышении recall"
   ]
  },
  {
   "cell_type": "code",
   "execution_count": 232,
   "id": "ae2813b3",
   "metadata": {},
   "outputs": [],
   "source": [
    "from sklearn.tree import DecisionTreeClassifier\n",
    "import typing as ty\n",
    "\n",
    "class MyAwesomeTreesBaggingClassifier(object):\n",
    "    def __init__(self, n_estimators, trees_hyperparams = {}):\n",
    "        self.n_estimators = n_estimators\n",
    "        self.trees_hyperparams = trees_hyperparams\n",
    "        self.base_algorithms = []\n",
    "        self.oob_error = []\n",
    "    \n",
    "    def fit(self, X, y):\n",
    "        list_trees = []\n",
    "        precision = []\n",
    "        recall = []\n",
    "        oob_error = []\n",
    "        for i in range(self.n_estimators):\n",
    "            X_bag, X_oob, y_bag, y_oob = train_test_split(X, y, train_size=0.63, \n",
    "                                                    shuffle = True)\n",
    "            list_trees.append(DecisionTreeClassifier(criterion = trees_hyperparams.get('criterion'), \n",
    "                                                     max_depth = trees_hyperparams.get('max_depth'),\n",
    "                                                    min_samples_leaf = trees_hyperparams.get('min_samples_leaf')))\n",
    "            list_trees[-1].fit(X_bag,y_bag)\n",
    "            y_pred = list_trees[-1].predict(X_oob)\n",
    "            precision.append(precision_score(y_oob, y_pred))\n",
    "            recall.append(recall_score(y_oob, y_pred))\n",
    "            self.oob_error.append(1 - accuracy_score(y_oob,y_pred))\n",
    "        print('Mean precision:', np.mean(precision),'\\n', 'Mean recall:',  np.mean(recall))\n",
    "        return self.oob_error\n",
    "        \n",
    "    \n",
    "    def predict(self, X):\n",
    "        pred_df = pd.DataFrame()\n",
    "        for tree in list_trees:\n",
    "            tree.fit\n",
    "            pred_df.insert(0, 'predict', list(tree.predict(X)), allow_duplicates = True)\n",
    "        mean_pred = pd.DataFrame(pred_df.mean(axis=1))\n",
    "        total_pred = pd.DataFrame(mean_pred[0].round(0), dtype=int)\n",
    "        return total_pred\n",
    "        \n",
    "    def get_oob_errors(self):\n",
    "        return self.oob_error"
   ]
  },
  {
   "cell_type": "code",
   "execution_count": 233,
   "id": "2e385b2a",
   "metadata": {},
   "outputs": [
    {
     "name": "stdout",
     "output_type": "stream",
     "text": [
      "Mean precision: 0.7074032650926922 \n",
      " Mean recall: 0.4404299210310859\n"
     ]
    },
    {
     "data": {
      "text/plain": [
       "[0.16651825467497772,\n",
       " 0.17374097160383895,\n",
       " 0.1748293262095577,\n",
       " 0.17047590778668253,\n",
       " 0.16355001484119913,\n",
       " 0.16978331849213413,\n",
       " 0.170871673097853,\n",
       " 0.17759968338775112,\n",
       " 0.1724547343425349,\n",
       " 0.16958543583654895]"
      ]
     },
     "execution_count": 233,
     "metadata": {},
     "output_type": "execute_result"
    }
   ],
   "source": [
    "bag_cl = MyAwesomeTreesBaggingClassifier(n_estimators=10, trees_hyperparams={'criterion': 'gini','max_depth':5, 'min_samples_leaf':2})\n",
    "bag_cl.fit(X_train_sc, y_train)"
   ]
  },
  {
   "cell_type": "code",
   "execution_count": 234,
   "id": "6b508df5",
   "metadata": {},
   "outputs": [],
   "source": [
    "y_proba = bag_cl.predict(X_test_sc)"
   ]
  },
  {
   "cell_type": "code",
   "execution_count": 235,
   "id": "158ff2b2",
   "metadata": {},
   "outputs": [
    {
     "data": {
      "text/plain": [
       "(0.438770899231812, 0.46481570129248445)"
      ]
     },
     "execution_count": 235,
     "metadata": {},
     "output_type": "execute_result"
    }
   ],
   "source": [
    "precision_score(y_test, y_proba),recall_score(y_test, y_proba)"
   ]
  },
  {
   "cell_type": "code",
   "execution_count": 237,
   "id": "c02aff3e",
   "metadata": {},
   "outputs": [
    {
     "data": {
      "text/plain": [
       "0.1709409320273078"
      ]
     },
     "execution_count": 237,
     "metadata": {},
     "output_type": "execute_result"
    }
   ],
   "source": [
    "bag_cl.get_oob_errors()\n",
    "np.mean(bag_cl.get_oob_errors())"
   ]
  },
  {
   "cell_type": "markdown",
   "id": "51a3a4f5",
   "metadata": {},
   "source": [
    "На тренировочном датасете recall значительно выше, чем у метода knn.\n",
    "Метрики на отложенных данных сравнимы с теми, что получились при балансировании классов, однако Precision значительно ниже, чем у KNN без балансировки."
   ]
  },
  {
   "cell_type": "code",
   "execution_count": 240,
   "id": "47771930",
   "metadata": {},
   "outputs": [
    {
     "ename": "NameError",
     "evalue": "name 'dectree_grid' is not defined",
     "output_type": "error",
     "traceback": [
      "\u001b[1;31m---------------------------------------------------------------------------\u001b[0m",
      "\u001b[1;31mNameError\u001b[0m                                 Traceback (most recent call last)",
      "\u001b[1;32m~\\AppData\\Local\\Temp/ipykernel_6276/1550091945.py\u001b[0m in \u001b[0;36m<module>\u001b[1;34m\u001b[0m\n\u001b[0;32m      3\u001b[0m \u001b[0mtree_grid\u001b[0m \u001b[1;33m=\u001b[0m \u001b[0mGridSearchCV\u001b[0m\u001b[1;33m(\u001b[0m\u001b[0mtree\u001b[0m\u001b[1;33m,\u001b[0m \u001b[0mgridtree\u001b[0m\u001b[1;33m,\u001b[0m \u001b[0mscoring\u001b[0m\u001b[1;33m=\u001b[0m\u001b[1;33m(\u001b[0m\u001b[1;34m'precision'\u001b[0m\u001b[1;33m,\u001b[0m \u001b[1;34m'recall'\u001b[0m\u001b[1;33m)\u001b[0m\u001b[1;33m,\u001b[0m \u001b[0mreturn_train_score\u001b[0m \u001b[1;33m=\u001b[0m \u001b[1;32mTrue\u001b[0m\u001b[1;33m,\u001b[0m\u001b[0mrefit\u001b[0m \u001b[1;33m=\u001b[0m \u001b[1;34m'precision'\u001b[0m\u001b[1;33m)\u001b[0m\u001b[1;33m\u001b[0m\u001b[1;33m\u001b[0m\u001b[0m\n\u001b[0;32m      4\u001b[0m \u001b[0mtree_grid\u001b[0m\u001b[1;33m.\u001b[0m\u001b[0mfit\u001b[0m\u001b[1;33m(\u001b[0m\u001b[0mX_train_sc\u001b[0m\u001b[1;33m,\u001b[0m \u001b[0my_train\u001b[0m\u001b[1;33m)\u001b[0m\u001b[1;33m\u001b[0m\u001b[1;33m\u001b[0m\u001b[0m\n\u001b[1;32m----> 5\u001b[1;33m \u001b[0mprint\u001b[0m\u001b[1;33m(\u001b[0m\u001b[1;34m'Best parameters'\u001b[0m\u001b[1;33m,\u001b[0m \u001b[0mdectree_grid\u001b[0m\u001b[1;33m.\u001b[0m\u001b[0mbest_params_\u001b[0m\u001b[1;33m)\u001b[0m\u001b[1;33m\u001b[0m\u001b[1;33m\u001b[0m\u001b[0m\n\u001b[0m\u001b[0;32m      6\u001b[0m \u001b[0mprint\u001b[0m\u001b[1;33m(\u001b[0m\u001b[1;34m'Best score'\u001b[0m\u001b[1;33m,\u001b[0m \u001b[0mdectree_grid\u001b[0m\u001b[1;33m.\u001b[0m\u001b[0mbest_score_\u001b[0m\u001b[1;33m)\u001b[0m\u001b[1;33m\u001b[0m\u001b[1;33m\u001b[0m\u001b[0m\n",
      "\u001b[1;31mNameError\u001b[0m: name 'dectree_grid' is not defined"
     ]
    }
   ],
   "source": [
    "tree = DecisionTreeClassifier(random_state = 13)\n",
    "gridtree = {'max_depth': np.linspace(1,50,50, dtype=int), 'criterion':['gini', 'entropy'], 'min_samples_leaf': np.linspace(1,10,10, dtype=int)}\n",
    "tree_grid = GridSearchCV(tree, gridtree, scoring=('precision', 'recall'), return_train_score = True,refit = 'precision')\n",
    "tree_grid.fit(X_train_sc, y_train)"
   ]
  },
  {
   "cell_type": "code",
   "execution_count": 241,
   "id": "e19425b7",
   "metadata": {},
   "outputs": [
    {
     "name": "stdout",
     "output_type": "stream",
     "text": [
      "Best parameters {'criterion': 'gini', 'max_depth': 1, 'min_samples_leaf': 1}\n",
      "Best score 0.735742859373507\n"
     ]
    }
   ],
   "source": [
    "print('Best parameters', tree_grid.best_params_)\n",
    "print('Best score', tree_grid.best_score_)"
   ]
  },
  {
   "cell_type": "code",
   "execution_count": 293,
   "id": "25c4fee2",
   "metadata": {},
   "outputs": [
    {
     "name": "stdout",
     "output_type": "stream",
     "text": [
      "Mean precision: 0.7075328143412305 \n",
      " Mean recall: 0.4219018948547746\n",
      "Mean precision: 0.7091626713854815 \n",
      " Mean recall: 0.44815279309170714\n",
      "Mean precision: 0.7041285985605761 \n",
      " Mean recall: 0.45328157320638957\n",
      "Mean precision: 0.7026820165248637 \n",
      " Mean recall: 0.44629234124005907\n",
      "Mean precision: 0.7065771051607095 \n",
      " Mean recall: 0.44619477027898913\n",
      "Mean precision: 0.7038855028563222 \n",
      " Mean recall: 0.4501156148617895\n",
      "Mean precision: 0.7014082525651977 \n",
      " Mean recall: 0.4503148160941543\n",
      "Mean precision: 0.7048317822607783 \n",
      " Mean recall: 0.44799252328164707\n",
      "Mean precision: 0.7064249022663831 \n",
      " Mean recall: 0.4453087253592751\n",
      "Mean precision: 0.7060315623218927 \n",
      " Mean recall: 0.4438659678187626\n",
      "Mean precision: 0.7024296002841717 \n",
      " Mean recall: 0.4468879745798254\n"
     ]
    }
   ],
   "source": [
    "oob = []\n",
    "for n_estimators in [3, 10, 30, 50, 70, 100, 120, 150, 200, 300, 350]:\n",
    "    bag = MyAwesomeTreesBaggingClassifier(n_estimators = n_estimators, trees_hyperparams={'criterion': 'gini','max_depth':1, 'min_samples_leaf':1})\n",
    "    bag.fit(X_train_sc, y_train)\n",
    "    oob.append(np.mean(bag.get_oob_errors()))"
   ]
  },
  {
   "cell_type": "code",
   "execution_count": 263,
   "id": "f61b9af6",
   "metadata": {},
   "outputs": [
    {
     "data": {
      "image/png": "[encoded data removed]",
      "text/plain": [
       "<Figure size 720x504 with 1 Axes>"
      ]
     },
     "metadata": {
      "needs_background": "light"
     },
     "output_type": "display_data"
    }
   ],
   "source": [
    "plt.figure(figsize=(10, 7))\n",
    "plt.title(\"OOB error rate\", fontsize=16)\n",
    "\n",
    "plt.xlabel(\"Number of estimators\", fontsize=14)\n",
    "plt.ylabel(\"OOB\", fontsize=14)\n",
    "ax = plt.gca()\n",
    "ax.set_xlim(3, 350)\n",
    "ax.set_ylim(0.1675, 0.173)\n",
    "X_axis = [3, 10, 30, 50, 70, 100, 120, 150, 200, 300, 350]\n",
    "Y_axis = oob\n",
    "ax.plot(X_axis, Y_axis,color='green')\n",
    "ax.grid()\n",
    "plt.show()"
   ]
  },
  {
   "cell_type": "code",
   "execution_count": 274,
   "id": "5374069b",
   "metadata": {},
   "outputs": [
    {
     "name": "stderr",
     "output_type": "stream",
     "text": [
      "C:\\ProgramData\\Anaconda3\\lib\\site-packages\\sklearn\\metrics\\_classification.py:1248: UndefinedMetricWarning: Precision is ill-defined and being set to 0.0 due to no predicted samples. Use `zero_division` parameter to control this behavior.\n",
      "  _warn_prf(average, modifier, msg_start, len(result))\n",
      "C:\\ProgramData\\Anaconda3\\lib\\site-packages\\sklearn\\metrics\\_classification.py:1248: UndefinedMetricWarning: Precision is ill-defined and being set to 0.0 due to no predicted samples. Use `zero_division` parameter to control this behavior.\n",
      "  _warn_prf(average, modifier, msg_start, len(result))\n",
      "C:\\ProgramData\\Anaconda3\\lib\\site-packages\\sklearn\\metrics\\_classification.py:1248: UndefinedMetricWarning: Precision is ill-defined and being set to 0.0 due to no predicted samples. Use `zero_division` parameter to control this behavior.\n",
      "  _warn_prf(average, modifier, msg_start, len(result))\n",
      "C:\\ProgramData\\Anaconda3\\lib\\site-packages\\sklearn\\metrics\\_classification.py:1248: UndefinedMetricWarning: Precision is ill-defined and being set to 0.0 due to no predicted samples. Use `zero_division` parameter to control this behavior.\n",
      "  _warn_prf(average, modifier, msg_start, len(result))\n",
      "C:\\ProgramData\\Anaconda3\\lib\\site-packages\\sklearn\\metrics\\_classification.py:1248: UndefinedMetricWarning: Precision is ill-defined and being set to 0.0 due to no predicted samples. Use `zero_division` parameter to control this behavior.\n",
      "  _warn_prf(average, modifier, msg_start, len(result))\n",
      "C:\\ProgramData\\Anaconda3\\lib\\site-packages\\sklearn\\metrics\\_classification.py:1248: UndefinedMetricWarning: Precision is ill-defined and being set to 0.0 due to no predicted samples. Use `zero_division` parameter to control this behavior.\n",
      "  _warn_prf(average, modifier, msg_start, len(result))\n",
      "C:\\ProgramData\\Anaconda3\\lib\\site-packages\\sklearn\\metrics\\_classification.py:1248: UndefinedMetricWarning: Precision is ill-defined and being set to 0.0 due to no predicted samples. Use `zero_division` parameter to control this behavior.\n",
      "  _warn_prf(average, modifier, msg_start, len(result))\n",
      "C:\\ProgramData\\Anaconda3\\lib\\site-packages\\sklearn\\metrics\\_classification.py:1248: UndefinedMetricWarning: Precision is ill-defined and being set to 0.0 due to no predicted samples. Use `zero_division` parameter to control this behavior.\n",
      "  _warn_prf(average, modifier, msg_start, len(result))\n",
      "C:\\ProgramData\\Anaconda3\\lib\\site-packages\\sklearn\\metrics\\_classification.py:1248: UndefinedMetricWarning: Precision is ill-defined and being set to 0.0 due to no predicted samples. Use `zero_division` parameter to control this behavior.\n",
      "  _warn_prf(average, modifier, msg_start, len(result))\n",
      "C:\\ProgramData\\Anaconda3\\lib\\site-packages\\sklearn\\metrics\\_classification.py:1248: UndefinedMetricWarning: Precision is ill-defined and being set to 0.0 due to no predicted samples. Use `zero_division` parameter to control this behavior.\n",
      "  _warn_prf(average, modifier, msg_start, len(result))\n",
      "C:\\ProgramData\\Anaconda3\\lib\\site-packages\\sklearn\\metrics\\_classification.py:1248: UndefinedMetricWarning: Precision is ill-defined and being set to 0.0 due to no predicted samples. Use `zero_division` parameter to control this behavior.\n",
      "  _warn_prf(average, modifier, msg_start, len(result))\n",
      "C:\\ProgramData\\Anaconda3\\lib\\site-packages\\sklearn\\metrics\\_classification.py:1248: UndefinedMetricWarning: Precision is ill-defined and being set to 0.0 due to no predicted samples. Use `zero_division` parameter to control this behavior.\n",
      "  _warn_prf(average, modifier, msg_start, len(result))\n",
      "C:\\ProgramData\\Anaconda3\\lib\\site-packages\\sklearn\\metrics\\_classification.py:1248: UndefinedMetricWarning: Precision is ill-defined and being set to 0.0 due to no predicted samples. Use `zero_division` parameter to control this behavior.\n",
      "  _warn_prf(average, modifier, msg_start, len(result))\n",
      "C:\\ProgramData\\Anaconda3\\lib\\site-packages\\sklearn\\metrics\\_classification.py:1248: UndefinedMetricWarning: Precision is ill-defined and being set to 0.0 due to no predicted samples. Use `zero_division` parameter to control this behavior.\n",
      "  _warn_prf(average, modifier, msg_start, len(result))\n",
      "C:\\ProgramData\\Anaconda3\\lib\\site-packages\\sklearn\\metrics\\_classification.py:1248: UndefinedMetricWarning: Precision is ill-defined and being set to 0.0 due to no predicted samples. Use `zero_division` parameter to control this behavior.\n",
      "  _warn_prf(average, modifier, msg_start, len(result))\n",
      "C:\\ProgramData\\Anaconda3\\lib\\site-packages\\sklearn\\metrics\\_classification.py:1248: UndefinedMetricWarning: Precision is ill-defined and being set to 0.0 due to no predicted samples. Use `zero_division` parameter to control this behavior.\n",
      "  _warn_prf(average, modifier, msg_start, len(result))\n"
     ]
    },
    {
     "data": {
      "text/plain": [
       "GridSearchCV(estimator=RandomForestClassifier(max_depth=1),\n",
       "             param_grid={'n_estimators': [3, 10, 30, 50, 70, 100, 120, 150, 200,\n",
       "                                          300, 350]},\n",
       "             refit='precision', return_train_score=True,\n",
       "             scoring=('precision', 'recall'))"
      ]
     },
     "execution_count": 274,
     "metadata": {},
     "output_type": "execute_result"
    }
   ],
   "source": [
    "from sklearn.ensemble import RandomForestClassifier\n",
    "\n",
    "RandTree = RandomForestClassifier(criterion = 'gini', max_depth = 1, min_samples_leaf=1)\n",
    "gridrandtree = {'n_estimators':  [3, 10, 30, 50, 70, 100, 120, 150, 200, 300, 350]}\n",
    "randtree_grid = GridSearchCV(RandTree, gridrandtree, scoring=('precision', 'recall'), return_train_score = True,refit = 'precision')\n",
    "randtree_grid.fit(X_train_sc, y_train)"
   ]
  },
  {
   "cell_type": "code",
   "execution_count": 275,
   "id": "9edfbe49",
   "metadata": {},
   "outputs": [
    {
     "name": "stdout",
     "output_type": "stream",
     "text": [
      "Best parameters {'n_estimators': 200}\n",
      "Best score 0.8519197388632872\n"
     ]
    }
   ],
   "source": [
    "print('Best parameters', randtree_grid.best_params_)\n",
    "print('Best score', randtree_grid.best_score_)"
   ]
  },
  {
   "cell_type": "markdown",
   "id": "da0e24d0",
   "metadata": {},
   "source": [
    "Precision заметно вырос, причем склонности к переобучению нет, на тесте и трейне метрики примерно одинаковы, recall же низок, как и при бэггинге и Knn"
   ]
  },
  {
   "cell_type": "markdown",
   "id": "69eb0fae",
   "metadata": {},
   "source": [
    "На данных с апскейлингом класса:"
   ]
  },
  {
   "cell_type": "code",
   "execution_count": 287,
   "id": "0eed60d8",
   "metadata": {},
   "outputs": [
    {
     "data": {
      "text/plain": [
       "GridSearchCV(estimator=RandomForestClassifier(max_depth=1),\n",
       "             param_grid={'n_estimators': [3, 10, 30, 50, 70, 100, 120, 150, 200,\n",
       "                                          300, 350]},\n",
       "             refit='recall', return_train_score=True,\n",
       "             scoring=('precision', 'recall'))"
      ]
     },
     "execution_count": 287,
     "metadata": {},
     "output_type": "execute_result"
    }
   ],
   "source": [
    "RandTree1 = RandomForestClassifier(criterion = 'gini', max_depth = 1, min_samples_leaf=1)\n",
    "gridrandtree1 = {'n_estimators':  [3, 10, 30, 50, 70, 100, 120, 150, 200, 300, 350]}\n",
    "randtree_grid1 = GridSearchCV(RandTree1, gridrandtree1, scoring=('precision', 'recall'), return_train_score = True,refit = 'recall')\n",
    "randtree_grid1.fit(X_train_up, y_train_up)"
   ]
  },
  {
   "cell_type": "code",
   "execution_count": 288,
   "id": "cd2896da",
   "metadata": {},
   "outputs": [
    {
     "name": "stdout",
     "output_type": "stream",
     "text": [
      "Best parameters {'n_estimators': 350}\n",
      "Best score 0.6654154512245843\n"
     ]
    }
   ],
   "source": [
    "print('Best parameters', randtree_grid1.best_params_)\n",
    "print('Best score', randtree_grid1.best_score_)"
   ]
  },
  {
   "cell_type": "code",
   "execution_count": 292,
   "id": "5569acd9",
   "metadata": {},
   "outputs": [
    {
     "data": {
      "text/html": [
       "<div>\n",
       "<style scoped>\n",
       "    .dataframe tbody tr th:only-of-type {\n",
       "        vertical-align: middle;\n",
       "    }\n",
       "\n",
       "    .dataframe tbody tr th {\n",
       "        vertical-align: top;\n",
       "    }\n",
       "\n",
       "    .dataframe thead th {\n",
       "        text-align: right;\n",
       "    }\n",
       "</style>\n",
       "<table border=\"1\" class=\"dataframe\">\n",
       "  <thead>\n",
       "    <tr style=\"text-align: right;\">\n",
       "      <th></th>\n",
       "      <th>0</th>\n",
       "    </tr>\n",
       "  </thead>\n",
       "  <tbody>\n",
       "    <tr>\n",
       "      <th>0</th>\n",
       "      <td>0.805470</td>\n",
       "    </tr>\n",
       "    <tr>\n",
       "      <th>1</th>\n",
       "      <td>0.803854</td>\n",
       "    </tr>\n",
       "    <tr>\n",
       "      <th>2</th>\n",
       "      <td>0.808636</td>\n",
       "    </tr>\n",
       "    <tr>\n",
       "      <th>3</th>\n",
       "      <td>0.800491</td>\n",
       "    </tr>\n",
       "    <tr>\n",
       "      <th>4</th>\n",
       "      <td>0.801629</td>\n",
       "    </tr>\n",
       "    <tr>\n",
       "      <th>5</th>\n",
       "      <td>0.799471</td>\n",
       "    </tr>\n",
       "    <tr>\n",
       "      <th>6</th>\n",
       "      <td>0.794035</td>\n",
       "    </tr>\n",
       "    <tr>\n",
       "      <th>7</th>\n",
       "      <td>0.794383</td>\n",
       "    </tr>\n",
       "    <tr>\n",
       "      <th>8</th>\n",
       "      <td>0.795965</td>\n",
       "    </tr>\n",
       "    <tr>\n",
       "      <th>9</th>\n",
       "      <td>0.796738</td>\n",
       "    </tr>\n",
       "    <tr>\n",
       "      <th>10</th>\n",
       "      <td>0.794733</td>\n",
       "    </tr>\n",
       "  </tbody>\n",
       "</table>\n",
       "</div>"
      ],
      "text/plain": [
       "           0\n",
       "0   0.805470\n",
       "1   0.803854\n",
       "2   0.808636\n",
       "3   0.800491\n",
       "4   0.801629\n",
       "5   0.799471\n",
       "6   0.794035\n",
       "7   0.794383\n",
       "8   0.795965\n",
       "9   0.796738\n",
       "10  0.794733"
      ]
     },
     "execution_count": 292,
     "metadata": {},
     "output_type": "execute_result"
    }
   ],
   "source": [
    "pd.DataFrame(randtree_grid1.cv_results_['mean_test_precision'])"
   ]
  },
  {
   "cell_type": "markdown",
   "id": "9600fcf6",
   "metadata": {},
   "source": [
    "С применением балансировки классов результат гораздо лучше, precision = 0.8, recall = 0.67"
   ]
  },
  {
   "cell_type": "code",
   "execution_count": 305,
   "id": "b3add2bd",
   "metadata": {},
   "outputs": [],
   "source": [
    "oob = []\n",
    "for n_estimators in [25, 30, 50, 70, 100, 120, 150, 200, 300, 350]:\n",
    "    randtree = RandomForestClassifier(n_estimators = n_estimators, criterion = 'gini', max_depth = 1, min_samples_leaf=1, oob_score = True)\n",
    "    randtree.fit(X_train_sc, y_train)\n",
    "    oob.append(1 - randtree.oob_score_)"
   ]
  },
  {
   "cell_type": "code",
   "execution_count": 307,
   "id": "79146296",
   "metadata": {},
   "outputs": [
    {
     "data": {
      "image/png": "[encoded data removed]",
      "text/plain": [
       "<Figure size 720x504 with 1 Axes>"
      ]
     },
     "metadata": {
      "needs_background": "light"
     },
     "output_type": "display_data"
    }
   ],
   "source": [
    "plt.figure(figsize=(10, 7))\n",
    "plt.title(\"OOB error rate\", fontsize=16)\n",
    "\n",
    "plt.xlabel(\"Number of estimators\", fontsize=14)\n",
    "plt.ylabel(\"OOB\", fontsize=14)\n",
    "ax = plt.gca()\n",
    "ax.set_xlim(25, 350)\n",
    "ax.set_ylim(0.1675, 0.22)\n",
    "X_axis = [25, 30, 50, 70, 100, 120, 150, 200, 300, 350]\n",
    "Y_axis = oob\n",
    "ax.plot(X_axis, Y_axis,color='green')\n",
    "ax.grid()\n",
    "plt.show()"
   ]
  },
  {
   "cell_type": "markdown",
   "id": "671b63b9",
   "metadata": {},
   "source": [
    "![ex2](https://scikit-learn.org/stable/_images/sphx_glr_plot_forest_importances_001.png)"
   ]
  },
  {
   "cell_type": "code",
   "execution_count": 312,
   "id": "a0d2fed8",
   "metadata": {},
   "outputs": [
    {
     "data": {
      "text/plain": [
       "RandomForestClassifier(max_depth=1, n_estimators=200)"
      ]
     },
     "execution_count": 312,
     "metadata": {},
     "output_type": "execute_result"
    }
   ],
   "source": [
    "RandTree = RandomForestClassifier(n_estimators = 200, criterion = 'gini', max_depth = 1, min_samples_leaf=1)\n",
    "RandTree.fit(X_train_sc, y_train)"
   ]
  },
  {
   "cell_type": "code",
   "execution_count": 320,
   "id": "b2f2d24b",
   "metadata": {},
   "outputs": [],
   "source": [
    "features=list(X_train.columns)"
   ]
  },
  {
   "cell_type": "code",
   "execution_count": 322,
   "id": "1047defd",
   "metadata": {},
   "outputs": [],
   "source": [
    "importances = RandTree.feature_importances_\n",
    "std = np.std([RandTree.feature_importances_ for tree in RandTree.estimators_], axis=0)"
   ]
  },
  {
   "cell_type": "code",
   "execution_count": 331,
   "id": "2bd7e3fd",
   "metadata": {},
   "outputs": [
    {
     "data": {
      "text/plain": [
       "Text(0, 0.5, 'Mean decrease in impurity')"
      ]
     },
     "execution_count": 331,
     "metadata": {},
     "output_type": "execute_result"
    },
    {
     "data": {
      "image/png": "[encoded data removed]",
      "text/plain": [
       "<Figure size 432x288 with 1 Axes>"
      ]
     },
     "metadata": {
      "needs_background": "light"
     },
     "output_type": "display_data"
    }
   ],
   "source": [
    "forest_importances = pd.Series(importances, index=features)\n",
    "fig, ax = plt.subplots()\n",
    "forest_importances.plot.bar(yerr=std, ax=ax)\n",
    "ax.set_title(\"Feature importances using MDI\")\n",
    "ax.set_ylabel(\"Mean decrease in impurity\")"
   ]
  },
  {
   "cell_type": "markdown",
   "id": "90e93cfe",
   "metadata": {},
   "source": [
    "Наибольшие веса имеют три признака: количество раз, когда у человека была просрочка других кредитов(на 30-59 дней, 60-89 дней и свыше 90 дней). Также сильный вклад вносит возраст. А отношение задолженности к сумамрному доходу вообще не влияет на результат."
   ]
  },
  {
   "cell_type": "code",
   "execution_count": 332,
   "id": "4fe639eb",
   "metadata": {},
   "outputs": [],
   "source": [
    "RandTree = RandomForestClassifier(n_estimators = 200, criterion = 'gini', max_depth = 1, min_samples_leaf=1, oob_score = True)\n",
    "RandTree.fit(X_train_sc, y_train)\n",
    "y_pred = RandTree.predict(X_test_sc)"
   ]
  },
  {
   "cell_type": "code",
   "execution_count": 335,
   "id": "ef2fb126",
   "metadata": {},
   "outputs": [
    {
     "name": "stdout",
     "output_type": "stream",
     "text": [
      "Precision на тесте: 0.8158844765342961\n",
      "Recall на тесте: 0.10818573480134036\n",
      "OOB-error:\n"
     ]
    },
    {
     "data": {
      "text/plain": [
       "(None, 0.7915431081823174)"
      ]
     },
     "execution_count": 335,
     "metadata": {},
     "output_type": "execute_result"
    }
   ],
   "source": [
    "print('Precision на тесте:', precision_score(y_test, y_pred))\n",
    "print('Recall на тесте:', recall_score(y_test, y_pred))\n",
    "print('OOB-error:'), RandTree.oob_score_"
   ]
  },
  {
   "cell_type": "code",
   "execution_count": 337,
   "id": "f32b848b",
   "metadata": {},
   "outputs": [],
   "source": [
    "RandTree_bal = RandomForestClassifier(n_estimators = 200, criterion = 'gini', max_depth = 1, min_samples_leaf=1, oob_score = True,class_weight = 'balanced')\n",
    "RandTree_bal.fit(X_train_sc, y_train)\n",
    "y_pred = RandTree_bal.predict(X_test_sc)"
   ]
  },
  {
   "cell_type": "code",
   "execution_count": 338,
   "id": "a0b76c69",
   "metadata": {},
   "outputs": [
    {
     "name": "stdout",
     "output_type": "stream",
     "text": [
      "Precision на тесте: 0.5167315175097277\n",
      "Recall на тесте: 0.6357108664432743\n",
      "OOB-error:\n"
     ]
    },
    {
     "data": {
      "text/plain": [
       "(None, 0.7909939593629873)"
      ]
     },
     "execution_count": 338,
     "metadata": {},
     "output_type": "execute_result"
    }
   ],
   "source": [
    "print('Precision на тесте:', precision_score(y_test, y_pred))\n",
    "print('Recall на тесте:', recall_score(y_test, y_pred))\n",
    "print('OOB-error:'), RandTree_bal.oob_score_"
   ]
  },
  {
   "cell_type": "markdown",
   "id": "d16f51bd",
   "metadata": {},
   "source": [
    "Precision при балансировке весов снизился, recall увеличился. Если считать f1-score, то он намного выше при балансировке."
   ]
  },
  {
   "cell_type": "code",
   "execution_count": 339,
   "id": "956ffc8c",
   "metadata": {},
   "outputs": [
    {
     "name": "stdout",
     "output_type": "stream",
     "text": [
      "Precision на тесте: 0.7328833172613307\n",
      "Recall на тесте: 0.3638104356151269\n"
     ]
    }
   ],
   "source": [
    "from sklearn.ensemble import GradientBoostingClassifier\n",
    "\n",
    "gradboo = GradientBoostingClassifier(n_estimators=200,max_depth=1)\n",
    "gradboo.fit(X_train_sc, y_train)\n",
    "y_pred = gradboo.predict(X_test_sc)\n",
    "print('Precision на тесте:', precision_score(y_test, y_pred))\n",
    "print('Recall на тесте:', recall_score(y_test, y_pred))"
   ]
  },
  {
   "cell_type": "code",
   "execution_count": 350,
   "id": "c6dde3d2",
   "metadata": {},
   "outputs": [],
   "source": [
    "error = []\n",
    "for n_estimators in [3, 10, 30, 50, 70, 100, 120, 150, 200, 300, 350, 500, 750]:\n",
    "    gradboo = GradientBoostingClassifier(n_estimators = n_estimators, max_depth = 1, min_samples_leaf=1)\n",
    "    gradboo.fit(X_train_sc, y_train)\n",
    "    error.append(1 - gradboo.score(X_train_sc, y_train))"
   ]
  },
  {
   "cell_type": "code",
   "execution_count": 353,
   "id": "614af906",
   "metadata": {},
   "outputs": [
    {
     "data": {
      "image/png": "[encoded data removed]",
      "text/plain": [
       "<Figure size 720x504 with 1 Axes>"
      ]
     },
     "metadata": {
      "needs_background": "light"
     },
     "output_type": "display_data"
    }
   ],
   "source": [
    "plt.figure(figsize=(10, 7))\n",
    "plt.title(\"Gradient Boosting error\", fontsize=16)\n",
    "\n",
    "plt.xlabel(\"Number of estimators\", fontsize=14)\n",
    "plt.ylabel(\"ERROR\", fontsize=14)\n",
    "ax = plt.gca()\n",
    "ax.set_xlim(3, 350)\n",
    "ax.set_ylim(0.13, 0.25)\n",
    "X_axis = [3, 10, 30, 50, 70, 100, 120, 150, 200, 300, 350, 500, 750]\n",
    "Y_axis = error\n",
    "ax.plot(X_axis, Y_axis,color='green')\n",
    "ax.grid()\n",
    "plt.show()"
   ]
  },
  {
   "cell_type": "code",
   "execution_count": 407,
   "id": "03aacc47",
   "metadata": {},
   "outputs": [
    {
     "name": "stdout",
     "output_type": "stream",
     "text": [
      "Precision на тесте: 0.6919117647058823\n",
      "Recall на тесте: 0.4504547630445189\n"
     ]
    }
   ],
   "source": [
    "gradboo_best = GradientBoostingClassifier(n_estimators=50,max_depth=3, min_samples_leaf = 1, \n",
    "                                          loss = 'exponential', learning_rate = 0.7)\n",
    "gradboo_best.fit(X_train_sc, y_train)\n",
    "y_pred = gradboo_best.predict(X_test_sc)\n",
    "print('Precision на тесте:', precision_score(y_test, y_pred))\n",
    "print('Recall на тесте:', recall_score(y_test, y_pred))"
   ]
  },
  {
   "cell_type": "markdown",
   "id": "403bba7a",
   "metadata": {},
   "source": [
    "При заданных выше гиперпараметрах на тесте чуть хуже Precision, зато выше recall.\n",
    "Градиентный бустинг более склонен к переобучению, чем bagging или random forest."
   ]
  },
  {
   "cell_type": "code",
   "execution_count": 415,
   "id": "a7f026a7",
   "metadata": {},
   "outputs": [
    {
     "name": "stdout",
     "output_type": "stream",
     "text": [
      "Mean precision: 0.7047005985360567 \n",
      " Mean recall: 0.4429204678500874\n",
      "Precision на тесте: 0.438770899231812\n",
      "Recall на тесте: 0.46481570129248445\n"
     ]
    }
   ],
   "source": [
    "bag = MyAwesomeTreesBaggingClassifier(n_estimators = 200, trees_hyperparams={'criterion': 'gini','max_depth':1, 'min_samples_leaf':1})\n",
    "bag.fit(X_train_sc, y_train)\n",
    "y_pred = bag.predict(X_test_sc)\n",
    "print('Precision на тесте:', precision_score(y_test, y_pred))\n",
    "print('Recall на тесте:', recall_score(y_test, y_pred))"
   ]
  },
  {
   "cell_type": "code",
   "execution_count": 409,
   "id": "5080e767",
   "metadata": {},
   "outputs": [
    {
     "name": "stdout",
     "output_type": "stream",
     "text": [
      "Precision на тесте: 0.8158844765342961\n",
      "Recall на тесте: 0.10818573480134036\n"
     ]
    }
   ],
   "source": [
    "RandTree = RandomForestClassifier(n_estimators = 200, criterion = 'gini', max_depth = 1, min_samples_leaf=1)\n",
    "RandTree.fit(X_train_sc, y_train)\n",
    "y_pred = RandTree.predict(X_test_sc)\n",
    "print('Precision на тесте:', precision_score(y_test, y_pred))\n",
    "print('Recall на тесте:', recall_score(y_test, y_pred))"
   ]
  },
  {
   "cell_type": "code",
   "execution_count": 408,
   "id": "d133c9d0",
   "metadata": {},
   "outputs": [
    {
     "name": "stdout",
     "output_type": "stream",
     "text": [
      "Precision на тесте: 0.6924208977189109\n",
      "Recall на тесте: 0.4504547630445189\n"
     ]
    }
   ],
   "source": [
    "gradboo_best = GradientBoostingClassifier(n_estimators=50,max_depth=3, min_samples_leaf = 1, \n",
    "                                          loss = 'exponential', learning_rate = 0.7)\n",
    "gradboo_best.fit(X_train_sc, y_train)\n",
    "y_pred = gradboo_best.predict(X_test_sc)\n",
    "print('Precision на тесте:', precision_score(y_test, y_pred))\n",
    "print('Recall на тесте:', recall_score(y_test, y_pred))"
   ]
  },
  {
   "cell_type": "markdown",
   "id": "1f7218af",
   "metadata": {},
   "source": [
    "В нашем случае gradient boosting и бэггинг более всего склонны к переобучению."
   ]
  }
 ],
 "metadata": {
  "kernelspec": {
   "display_name": "Python 3 (ipykernel)",
   "language": "python",
   "name": "python3"
  },
  "language_info": {
   "codemirror_mode": {
    "name": "ipython",
    "version": 3
   },
   "file_extension": ".py",
   "mimetype": "text/x-python",
   "name": "python",
   "nbconvert_exporter": "python",
   "pygments_lexer": "ipython3",
   "version": "3.9.7"
  }
 },
 "nbformat": 4,
 "nbformat_minor": 5
}
